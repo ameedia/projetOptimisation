{
  "nbformat": 4,
  "nbformat_minor": 0,
  "metadata": {
    "colab": {
      "name": "Projet Optimisation Sto.ipynb",
      "provenance": [],
      "collapsed_sections": [],
      "authorship_tag": "ABX9TyOlpSvv9pThCse/ETdkO9gT",
      "include_colab_link": true
    },
    "kernelspec": {
      "name": "python3",
      "display_name": "Python 3"
    },
    "language_info": {
      "name": "python"
    }
  },
  "cells": [
    {
      "cell_type": "markdown",
      "metadata": {
        "id": "view-in-github",
        "colab_type": "text"
      },
      "source": [
        "<a href=\"https://colab.research.google.com/github/ameedia/projetOptimisation/blob/main/Projet_Optimisation_Sto.ipynb\" target=\"_parent\"><img src=\"https://colab.research.google.com/assets/colab-badge.svg\" alt=\"Open In Colab\"/></a>"
      ]
    },
    {
      "cell_type": "markdown",
      "source": [
        "# Projet Optimisation"
      ],
      "metadata": {
        "id": "45OaXP9fsirq"
      }
    },
    {
      "cell_type": "code",
      "execution_count": 1,
      "metadata": {
        "id": "5haaNT8GqMzs"
      },
      "outputs": [],
      "source": [
        "from matplotlib import pyplot as plt\n",
        "from mpl_toolkits import mplot3d\n",
        "import numpy as np\n",
        "import matplotlib.pyplot as plt\n",
        "from matplotlib import cm\n",
        "import seaborn as sns\n",
        "import time\n",
        "from scipy import stats \n",
        "import scipy.optimize as op"
      ]
    },
    {
      "cell_type": "markdown",
      "source": [
        "\n",
        "\n",
        "1. **Pour 1D**\n",
        "\n"
      ],
      "metadata": {
        "id": "sbJA14mavJmU"
      }
    },
    {
      "cell_type": "code",
      "source": [
        "def f1d(X):\n",
        "  return 418.9828 - X*np.sin(np.sqrt(np.abs(X)))"
      ],
      "metadata": {
        "id": "hYwVwxc-syTB"
      },
      "execution_count": 3,
      "outputs": []
    },
    {
      "cell_type": "code",
      "source": [
        "def gradientf1d(X):\n",
        "  return -(np.sin(np.sqrt(np.abs(X))) + X*np.cos(np.sqrt(np.abs(X)))/(2*np.sqrt(np.abs(X))))"
      ],
      "metadata": {
        "id": "ZYwXo-wksbfO"
      },
      "execution_count": 4,
      "outputs": []
    },
    {
      "cell_type": "code",
      "source": [
        "def gd2_rmsprop1d(x, grad, alpha, beta=0.9, eps=1e-8, max_iter=10):\n",
        "    xs = np.zeros((1 + max_iter))\n",
        "    xs[0] = x\n",
        "    v = 0\n",
        "    for i in range(max_iter):\n",
        "        v = beta*v + (1-beta)*grad(x)**2\n",
        "        x = x - alpha * grad(x) / (eps + np.sqrt(v))\n",
        "        xs[i+1] = x\n",
        "    return xs"
      ],
      "metadata": {
        "id": "FZqHAjssydCC"
      },
      "execution_count": 5,
      "outputs": []
    },
    {
      "cell_type": "code",
      "source": [
        "%time op.fmin(f1d,(0.0))"
      ],
      "metadata": {
        "colab": {
          "base_uri": "https://localhost:8080/"
        },
        "id": "bKDPoXPHy9xD",
        "outputId": "88723726-bfa8-4741-9ec4-6fa22f3f576a"
      },
      "execution_count": 7,
      "outputs": [
        {
          "output_type": "stream",
          "name": "stdout",
          "text": [
            "Optimization terminated successfully.\n",
            "         Current function value: 415.037498\n",
            "         Iterations: 30\n",
            "         Function evaluations: 60\n",
            "CPU times: user 5.21 ms, sys: 21 µs, total: 5.24 ms\n",
            "Wall time: 4.88 ms\n"
          ]
        },
        {
          "output_type": "execute_result",
          "data": {
            "text/plain": [
              "array([5.2391875])"
            ]
          },
          "metadata": {},
          "execution_count": 7
        }
      ]
    },
    {
      "cell_type": "code",
      "source": [
        "rs = gd2_rmsprop1d(x=20, grad=gradientf1d,alpha=0.888,beta=0.9, eps=1e-8, max_iter=100)"
      ],
      "metadata": {
        "id": "fQtTaMXgz6eG"
      },
      "execution_count": 82,
      "outputs": []
    },
    {
      "cell_type": "code",
      "source": [
        "plt.plot(rs)"
      ],
      "metadata": {
        "colab": {
          "base_uri": "https://localhost:8080/",
          "height": 282
        },
        "id": "GE7qMHn43iNN",
        "outputId": "3d55a732-592d-4cdf-c6aa-9b61eff18629"
      },
      "execution_count": 83,
      "outputs": [
        {
          "output_type": "execute_result",
          "data": {
            "text/plain": [
              "[<matplotlib.lines.Line2D at 0x7f89eaeebbd0>]"
            ]
          },
          "metadata": {},
          "execution_count": 83
        },
        {
          "output_type": "display_data",
          "data": {
            "text/plain": [
              "<Figure size 432x288 with 1 Axes>"
            ],
            "image/png": "[encoded data removed]"
          },
          "metadata": {
            "needs_background": "light"
          }
        }
      ]
    },
    {
      "cell_type": "code",
      "source": [
        ""
      ],
      "metadata": {
        "id": "vDYSFoVQ6oik"
      },
      "execution_count": null,
      "outputs": []
    },
    {
      "cell_type": "markdown",
      "source": [
        "\n",
        "\n",
        "2.   **Pour 2D**\n",
        "\n"
      ],
      "metadata": {
        "id": "4KapARMK6q8Y"
      }
    },
    {
      "cell_type": "code",
      "source": [
        "def f2d(X):\n",
        "  vf = 0\n",
        "  D= X.shape[0]\n",
        "  print(D)\n",
        "  const = 418.9828*D\n",
        "  print(const)\n",
        "  for i in range(D):\n",
        "    f1 = const\n",
        "    vf += X[i]*np.sin(np.sqrt(np.abs(X[i])))\n",
        "    print(vf)\n",
        "    vfd = f1 - vf\n",
        "  return vfd"
      ],
      "metadata": {
        "id": "orGU0YRp6vWK"
      },
      "execution_count": null,
      "outputs": []
    },
    {
      "cell_type": "code",
      "source": [
        "def grad2d(X):\n",
        "  return np.array([\n",
        "      -(np.sin(np.sqrt(np.abs(X[0]))) + X[0]*np.cos(np.sqrt(np.abs(X[0])))/(2*np.sqrt(np.abs(X[0])))),\n",
        "      -(np.sin(np.sqrt(np.abs(X[1]))) + X[1]*np.cos(np.sqrt(np.abs(X[1])))/(2*np.sqrt(np.abs(X[1]))))\n",
        "    ])"
      ],
      "metadata": {
        "id": "UYzoAL_G9fTJ"
      },
      "execution_count": 178,
      "outputs": []
    },
    {
      "cell_type": "code",
      "source": [
        "def gd2_rmsprop2d(x, grad, alpha, beta=0.9, eps=1e-8, max_iter=10):\n",
        "    xs = np.zeros((1 + max_iter, x.shape[0]))\n",
        "    xs[0, :] = x\n",
        "    v = 0\n",
        "    for i in range(max_iter):\n",
        "        v = beta*v + (1-beta)*grad(x)**2\n",
        "        x = x - alpha * grad(x) / (eps + np.sqrt(v))\n",
        "        xs[i+1, :] = x\n",
        "    return xs"
      ],
      "metadata": {
        "id": "0QP_XJhxyyuX"
      },
      "execution_count": 179,
      "outputs": []
    },
    {
      "cell_type": "code",
      "source": [
        "gd2_rmsprop2d(x=np.array([-20,20]), grad=grad2d, alpha=0.98, beta=0.9, eps=1e-8, max_iter=100)"
      ],
      "metadata": {
        "id": "vqXDLeOMzEnj"
      },
      "execution_count": null,
      "outputs": []
    },
    {
      "cell_type": "code",
      "source": [
        "xs = gd2_rmsprop2d(x=np.array([-20,20]), grad=grad2d, alpha=0.98, beta=0.9, eps=1e-8, max_iter=100)\n",
        "x = np.linspace(-500, 500, 100)\n",
        "y = np.linspace(-500, 500, 100)\n",
        "X, Y = np.meshgrid(x, y)\n",
        "levels = [0.1,1,2,4,9, 16, 25, 36, 49, 64, 81, 100]\n",
        "Z = 418.9828*2 - (x*np.sin(np.sqrt(np.abs(x))) + Y*np.sin(np.sqrt(np.abs(Y))))\n",
        "c = plt.contour(X, Y, Z, levels)\n",
        "pass"
      ],
      "metadata": {
        "colab": {
          "base_uri": "https://localhost:8080/",
          "height": 265
        },
        "id": "d-kNxEvAzW07",
        "outputId": "8fa515fb-fd9c-430f-a204-d2f8e6559ba1"
      },
      "execution_count": 181,
      "outputs": [
        {
          "output_type": "display_data",
          "data": {
            "text/plain": [
              "<Figure size 432x288 with 1 Axes>"
            ],
            "image/png": "[encoded data removed]"
          },
          "metadata": {
            "needs_background": "light"
          }
        }
      ]
    },
    {
      "cell_type": "code",
      "source": [
        "xs = gd2_rmsprop2d(x=np.array([-20,20]), grad=grad2d, alpha=0.98, beta=0.9, eps=1e-8, max_iter=100)\n",
        "x = np.linspace(-30, 500, 100)\n",
        "y = np.linspace(-30, 500, 100)\n",
        "X, Y = np.meshgrid(x, y)\n",
        "levels = [0.1,1,2,4,9, 16, 25, 36, 49, 64, 81, 100]\n",
        "Z = 418.9828*2 -( x*np.sin(np.sqrt(np.abs(x))) + Y*np.sin(np.sqrt(np.abs(Y))))\n",
        "c = plt.contour(X, Y, Z, levels)\n",
        "plt.plot(xs[:, 0], xs[:, 1], 'o-', c='red')\n",
        "plt.title('Gradieent descent with rmsprop')\n",
        "pass"
      ],
      "metadata": {
        "colab": {
          "base_uri": "https://localhost:8080/",
          "height": 281
        },
        "id": "RcDtefn8z2bs",
        "outputId": "4476dc8f-68e4-4a9f-8a90-52ce7b60b88f"
      },
      "execution_count": 182,
      "outputs": [
        {
          "output_type": "display_data",
          "data": {
            "text/plain": [
              "<Figure size 432x288 with 1 Axes>"
            ],
            "image/png": "[encoded data removed]"
          },
          "metadata": {
            "needs_background": "light"
          }
        }
      ]
    },
    {
      "cell_type": "code",
      "source": [
        ""
      ],
      "metadata": {
        "id": "E8tA9S2D8LjX"
      },
      "execution_count": null,
      "outputs": []
    },
    {
      "cell_type": "markdown",
      "source": [
        "\n",
        "\n",
        "3.   **Pour 10D**\n",
        "\n"
      ],
      "metadata": {
        "id": "kIP4w7tsCIHd"
      }
    },
    {
      "cell_type": "code",
      "source": [
        "def grad10d(X):\n",
        "  return np.array([\n",
        "      -(np.sin(np.sqrt(np.abs(X[0]))) + X[0]*np.cos(np.sqrt(np.abs(X[0])))/(2*np.sqrt(np.abs(X[0])))),\n",
        "      -(np.sin(np.sqrt(np.abs(X[1]))) + X[1]*np.cos(np.sqrt(np.abs(X[1])))/(2*np.sqrt(np.abs(X[1])))),\n",
        "      -(np.sin(np.sqrt(np.abs(X[2]))) + X[2]*np.cos(np.sqrt(np.abs(X[2])))/(2*np.sqrt(np.abs(X[2])))),\n",
        "      -(np.sin(np.sqrt(np.abs(X[3]))) + X[3]*np.cos(np.sqrt(np.abs(X[3])))/(2*np.sqrt(np.abs(X[3])))),\n",
        "      -(np.sin(np.sqrt(np.abs(X[4]))) + X[4]*np.cos(np.sqrt(np.abs(X[4])))/(2*np.sqrt(np.abs(X[4])))),\n",
        "      -(np.sin(np.sqrt(np.abs(X[5]))) + X[5]*np.cos(np.sqrt(np.abs(X[5])))/(2*np.sqrt(np.abs(X[5])))),\n",
        "      -(np.sin(np.sqrt(np.abs(X[6]))) + X[6]*np.cos(np.sqrt(np.abs(X[6])))/(2*np.sqrt(np.abs(X[6])))),\n",
        "      -(np.sin(np.sqrt(np.abs(X[7]))) + X[7]*np.cos(np.sqrt(np.abs(X[7])))/(2*np.sqrt(np.abs(X[7])))),\n",
        "      -(np.sin(np.sqrt(np.abs(X[8]))) + X[8]*np.cos(np.sqrt(np.abs(X[8])))/(2*np.sqrt(np.abs(X[8])))),\n",
        "      -(np.sin(np.sqrt(np.abs(X[9]))) + X[9]*np.cos(np.sqrt(np.abs(X[9])))/(2*np.sqrt(np.abs(X[9]))))\n",
        "    ])"
      ],
      "metadata": {
        "id": "NM3HZ-WTCVDl"
      },
      "execution_count": 183,
      "outputs": []
    },
    {
      "cell_type": "code",
      "source": [
        "def gd2_rmsprop10d(x, grad, alpha, beta=0.9, eps=1e-8, max_iter=10):\n",
        "    xs = np.zeros((1 + max_iter, x.shape[0]))\n",
        "    xs[0, :] = x\n",
        "    v = 0\n",
        "    for i in range(max_iter):\n",
        "        v = beta*v + (1-beta)*grad(x)**2\n",
        "        x = x - alpha * grad(x) / (eps + np.sqrt(v))\n",
        "        xs[i+1, :] = x\n",
        "    return xs"
      ],
      "metadata": {
        "id": "9vHCu4kMDDQ3"
      },
      "execution_count": 184,
      "outputs": []
    },
    {
      "cell_type": "code",
      "source": [
        "gd2_rmsprop2d(x=np.array([20,20,-20,20,-20,20,20,20,20,20]), grad=grad10d, alpha=0.89, beta=0.9, eps=1e-8, max_iter=100)"
      ],
      "metadata": {
        "colab": {
          "base_uri": "https://localhost:8080/"
        },
        "id": "2_QMlYNTG0Ef",
        "outputId": "82e0fcc6-ea67-41f1-be4a-3e42e83d9f76"
      },
      "execution_count": 198,
      "outputs": [
        {
          "output_type": "execute_result",
          "data": {
            "text/plain": [
              "array([[ 20.        ,  20.        , -20.        , ...,  20.        ,\n",
              "         20.        ,  20.        ],\n",
              "       [ 17.18557294,  17.18557294, -22.81442691, ...,  17.18557294,\n",
              "         17.18557294,  17.18557294],\n",
              "       [ 14.91121758,  14.91121758, -25.46074215, ...,  14.91121758,\n",
              "         14.91121758,  14.91121758],\n",
              "       ...,\n",
              "       [  5.54018216,   5.54018216, -57.70751143, ...,   5.54018216,\n",
              "          5.54018216,   5.54018216],\n",
              "       [  4.9985955 ,   4.9985955 , -57.70751143, ...,   4.9985955 ,\n",
              "          4.9985955 ,   4.9985955 ],\n",
              "       [  5.44997086,   5.44997086, -57.70751143, ...,   5.44997086,\n",
              "          5.44997086,   5.44997086]])"
            ]
          },
          "metadata": {},
          "execution_count": 198
        }
      ]
    },
    {
      "cell_type": "code",
      "source": [
        ""
      ],
      "metadata": {
        "id": "mAndKLwJIQfK"
      },
      "execution_count": null,
      "outputs": []
    }
  ]
}